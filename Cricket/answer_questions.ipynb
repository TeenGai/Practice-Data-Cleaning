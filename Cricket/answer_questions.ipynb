{
 "cells": [
  {
   "cell_type": "code",
   "execution_count": 1,
   "metadata": {},
   "outputs": [
    {
     "data": {
      "text/html": [
       "<div>\n",
       "<style scoped>\n",
       "    .dataframe tbody tr th:only-of-type {\n",
       "        vertical-align: middle;\n",
       "    }\n",
       "\n",
       "    .dataframe tbody tr th {\n",
       "        vertical-align: top;\n",
       "    }\n",
       "\n",
       "    .dataframe thead th {\n",
       "        text-align: right;\n",
       "    }\n",
       "</style>\n",
       "<table border=\"1\" class=\"dataframe\">\n",
       "  <thead>\n",
       "    <tr style=\"text-align: right;\">\n",
       "      <th></th>\n",
       "      <th>Player</th>\n",
       "      <th>Inns</th>\n",
       "      <th>Highest_Inns_Score</th>\n",
       "      <th>Batting_Strike_Rate</th>\n",
       "      <th>Hundreds</th>\n",
       "      <th>Fifties</th>\n",
       "      <th>Ducks</th>\n",
       "      <th>Country</th>\n",
       "      <th>Start_Career</th>\n",
       "      <th>Retire_Career</th>\n",
       "    </tr>\n",
       "  </thead>\n",
       "  <tbody>\n",
       "    <tr>\n",
       "      <th>0</th>\n",
       "      <td>DG Bradman</td>\n",
       "      <td>80</td>\n",
       "      <td>334</td>\n",
       "      <td>58.60</td>\n",
       "      <td>29</td>\n",
       "      <td>13</td>\n",
       "      <td>7</td>\n",
       "      <td>AUS</td>\n",
       "      <td>1928</td>\n",
       "      <td>1948</td>\n",
       "    </tr>\n",
       "    <tr>\n",
       "      <th>1</th>\n",
       "      <td>HC Brook</td>\n",
       "      <td>20</td>\n",
       "      <td>186</td>\n",
       "      <td>91.76</td>\n",
       "      <td>4</td>\n",
       "      <td>7</td>\n",
       "      <td>1</td>\n",
       "      <td>ENG</td>\n",
       "      <td>2022</td>\n",
       "      <td>2023</td>\n",
       "    </tr>\n",
       "    <tr>\n",
       "      <th>2</th>\n",
       "      <td>AC Voges</td>\n",
       "      <td>31</td>\n",
       "      <td>269</td>\n",
       "      <td>55.68</td>\n",
       "      <td>5</td>\n",
       "      <td>4</td>\n",
       "      <td>2</td>\n",
       "      <td>AUS</td>\n",
       "      <td>2015</td>\n",
       "      <td>2016</td>\n",
       "    </tr>\n",
       "    <tr>\n",
       "      <th>3</th>\n",
       "      <td>RG Pollock</td>\n",
       "      <td>41</td>\n",
       "      <td>274</td>\n",
       "      <td>54.48</td>\n",
       "      <td>7</td>\n",
       "      <td>11</td>\n",
       "      <td>1</td>\n",
       "      <td>SA</td>\n",
       "      <td>1963</td>\n",
       "      <td>1970</td>\n",
       "    </tr>\n",
       "    <tr>\n",
       "      <th>4</th>\n",
       "      <td>GA Headley</td>\n",
       "      <td>40</td>\n",
       "      <td>270</td>\n",
       "      <td>56.00</td>\n",
       "      <td>10</td>\n",
       "      <td>5</td>\n",
       "      <td>2</td>\n",
       "      <td>WI</td>\n",
       "      <td>1930</td>\n",
       "      <td>1954</td>\n",
       "    </tr>\n",
       "    <tr>\n",
       "      <th>...</th>\n",
       "      <td>...</td>\n",
       "      <td>...</td>\n",
       "      <td>...</td>\n",
       "      <td>...</td>\n",
       "      <td>...</td>\n",
       "      <td>...</td>\n",
       "      <td>...</td>\n",
       "      <td>...</td>\n",
       "      <td>...</td>\n",
       "      <td>...</td>\n",
       "    </tr>\n",
       "    <tr>\n",
       "      <th>57</th>\n",
       "      <td>KD Walters</td>\n",
       "      <td>125</td>\n",
       "      <td>250</td>\n",
       "      <td>49.16</td>\n",
       "      <td>15</td>\n",
       "      <td>33</td>\n",
       "      <td>4</td>\n",
       "      <td>AUS</td>\n",
       "      <td>1965</td>\n",
       "      <td>1981</td>\n",
       "    </tr>\n",
       "    <tr>\n",
       "      <th>58</th>\n",
       "      <td>GC Smith</td>\n",
       "      <td>205</td>\n",
       "      <td>277</td>\n",
       "      <td>59.67</td>\n",
       "      <td>27</td>\n",
       "      <td>38</td>\n",
       "      <td>11</td>\n",
       "      <td>ICC/SA</td>\n",
       "      <td>2002</td>\n",
       "      <td>2014</td>\n",
       "    </tr>\n",
       "    <tr>\n",
       "      <th>59</th>\n",
       "      <td>WH Ponsford</td>\n",
       "      <td>48</td>\n",
       "      <td>266</td>\n",
       "      <td>44.77</td>\n",
       "      <td>7</td>\n",
       "      <td>6</td>\n",
       "      <td>1</td>\n",
       "      <td>AUS</td>\n",
       "      <td>1924</td>\n",
       "      <td>1934</td>\n",
       "    </tr>\n",
       "    <tr>\n",
       "      <th>60</th>\n",
       "      <td>SJ McCabe</td>\n",
       "      <td>62</td>\n",
       "      <td>232</td>\n",
       "      <td>60.02</td>\n",
       "      <td>6</td>\n",
       "      <td>13</td>\n",
       "      <td>4</td>\n",
       "      <td>AUS</td>\n",
       "      <td>1930</td>\n",
       "      <td>1938</td>\n",
       "    </tr>\n",
       "    <tr>\n",
       "      <th>61</th>\n",
       "      <td>DR Jardine</td>\n",
       "      <td>33</td>\n",
       "      <td>127</td>\n",
       "      <td>25.59</td>\n",
       "      <td>1</td>\n",
       "      <td>10</td>\n",
       "      <td>2</td>\n",
       "      <td>ENG</td>\n",
       "      <td>1928</td>\n",
       "      <td>1934</td>\n",
       "    </tr>\n",
       "  </tbody>\n",
       "</table>\n",
       "<p>62 rows × 10 columns</p>\n",
       "</div>"
      ],
      "text/plain": [
       "         Player  Inns  Highest_Inns_Score  Batting_Strike_Rate  Hundreds  \\\n",
       "0    DG Bradman    80                 334                58.60        29   \n",
       "1      HC Brook    20                 186                91.76         4   \n",
       "2      AC Voges    31                 269                55.68         5   \n",
       "3    RG Pollock    41                 274                54.48         7   \n",
       "4    GA Headley    40                 270                56.00        10   \n",
       "..          ...   ...                 ...                  ...       ...   \n",
       "57   KD Walters   125                 250                49.16        15   \n",
       "58     GC Smith   205                 277                59.67        27   \n",
       "59  WH Ponsford    48                 266                44.77         7   \n",
       "60    SJ McCabe    62                 232                60.02         6   \n",
       "61   DR Jardine    33                 127                25.59         1   \n",
       "\n",
       "    Fifties  Ducks Country  Start_Career  Retire_Career  \n",
       "0        13      7     AUS          1928           1948  \n",
       "1         7      1     ENG          2022           2023  \n",
       "2         4      2     AUS          2015           2016  \n",
       "3        11      1      SA          1963           1970  \n",
       "4         5      2      WI          1930           1954  \n",
       "..      ...    ...     ...           ...            ...  \n",
       "57       33      4     AUS          1965           1981  \n",
       "58       38     11  ICC/SA          2002           2014  \n",
       "59        6      1     AUS          1924           1934  \n",
       "60       13      4     AUS          1930           1938  \n",
       "61       10      2     ENG          1928           1934  \n",
       "\n",
       "[62 rows x 10 columns]"
      ]
     },
     "execution_count": 1,
     "metadata": {},
     "output_type": "execute_result"
    }
   ],
   "source": [
    "import pandas as pd\n",
    "\n",
    "df = pd.read_csv(\"cleaned_cricket.csv\")\n",
    "df"
   ]
  },
  {
   "cell_type": "markdown",
   "metadata": {},
   "source": [
    "# Question 1 -> What is the Average Career Length"
   ]
  },
  {
   "cell_type": "code",
   "execution_count": 2,
   "metadata": {},
   "outputs": [
    {
     "data": {
      "text/plain": [
       "13.193548387096774"
      ]
     },
     "execution_count": 2,
     "metadata": {},
     "output_type": "execute_result"
    }
   ],
   "source": [
    "df['Career_Length'] = (df['Retire_Career'] - df['Start_Career'])\n",
    "df['Career_Length'].mean()"
   ]
  },
  {
   "cell_type": "markdown",
   "metadata": {},
   "source": [
    "# Question 2 -> AVG Batting_Strike_Rate for cricketers who played over 10 years"
   ]
  },
  {
   "cell_type": "code",
   "execution_count": 3,
   "metadata": {},
   "outputs": [
    {
     "data": {
      "text/plain": [
       "50.21499999999999"
      ]
     },
     "execution_count": 3,
     "metadata": {},
     "output_type": "execute_result"
    }
   ],
   "source": [
    "df.loc[df['Career_Length'] > 10, 'Batting_Strike_Rate'].mean()"
   ]
  },
  {
   "cell_type": "markdown",
   "metadata": {},
   "source": [
    "# Question 3 -> Find number of cricketers who played before 1960"
   ]
  },
  {
   "cell_type": "code",
   "execution_count": 4,
   "metadata": {},
   "outputs": [
    {
     "data": {
      "text/plain": [
       "23"
      ]
     },
     "execution_count": 4,
     "metadata": {},
     "output_type": "execute_result"
    }
   ],
   "source": [
    "df.loc[df['Start_Career'] < 1960, 'Player'].count()"
   ]
  },
  {
   "cell_type": "markdown",
   "metadata": {},
   "source": [
    "# Question 4 -> Max Highest Inns Score by Country"
   ]
  },
  {
   "cell_type": "code",
   "execution_count": 5,
   "metadata": {},
   "outputs": [
    {
     "data": {
      "text/plain": [
       "Country\n",
       "ICC/WI     400\n",
       "AUS        380\n",
       "SL         374\n",
       "WI         365\n",
       "ENG        364\n",
       "ICC/PAK    329\n",
       "ICC/IND    319\n",
       "PAK        313\n",
       "SA         278\n",
       "ICC/SA     277\n",
       "IND        254\n",
       "NZ         251\n",
       "ZIM        232\n",
       "Name: Highest_Inns_Score, dtype: int64"
      ]
     },
     "execution_count": 5,
     "metadata": {},
     "output_type": "execute_result"
    }
   ],
   "source": [
    "df.groupby('Country')['Highest_Inns_Score'].max().sort_values(ascending=False)"
   ]
  },
  {
   "cell_type": "markdown",
   "metadata": {},
   "source": [
    "# Question 5 -> Hundreds, Fifties, Ducks (0) AVG by Country"
   ]
  },
  {
   "cell_type": "code",
   "execution_count": 6,
   "metadata": {},
   "outputs": [
    {
     "data": {
      "text/html": [
       "<div>\n",
       "<style scoped>\n",
       "    .dataframe tbody tr th:only-of-type {\n",
       "        vertical-align: middle;\n",
       "    }\n",
       "\n",
       "    .dataframe tbody tr th {\n",
       "        vertical-align: top;\n",
       "    }\n",
       "\n",
       "    .dataframe thead th {\n",
       "        text-align: right;\n",
       "    }\n",
       "</style>\n",
       "<table border=\"1\" class=\"dataframe\">\n",
       "  <thead>\n",
       "    <tr style=\"text-align: right;\">\n",
       "      <th></th>\n",
       "      <th>Hundreds</th>\n",
       "      <th>Fifties</th>\n",
       "      <th>Ducks</th>\n",
       "    </tr>\n",
       "    <tr>\n",
       "      <th>Country</th>\n",
       "      <th></th>\n",
       "      <th></th>\n",
       "      <th></th>\n",
       "    </tr>\n",
       "  </thead>\n",
       "  <tbody>\n",
       "    <tr>\n",
       "      <th>AUS</th>\n",
       "      <td>20.625000</td>\n",
       "      <td>28.375000</td>\n",
       "      <td>8.562500</td>\n",
       "    </tr>\n",
       "    <tr>\n",
       "      <th>ENG</th>\n",
       "      <td>12.384615</td>\n",
       "      <td>20.846154</td>\n",
       "      <td>4.307692</td>\n",
       "    </tr>\n",
       "    <tr>\n",
       "      <th>ICC/IND</th>\n",
       "      <td>29.500000</td>\n",
       "      <td>47.500000</td>\n",
       "      <td>12.000000</td>\n",
       "    </tr>\n",
       "    <tr>\n",
       "      <th>ICC/PAK</th>\n",
       "      <td>25.000000</td>\n",
       "      <td>46.000000</td>\n",
       "      <td>15.000000</td>\n",
       "    </tr>\n",
       "    <tr>\n",
       "      <th>ICC/SA</th>\n",
       "      <td>36.000000</td>\n",
       "      <td>48.000000</td>\n",
       "      <td>13.500000</td>\n",
       "    </tr>\n",
       "    <tr>\n",
       "      <th>ICC/WI</th>\n",
       "      <td>34.000000</td>\n",
       "      <td>48.000000</td>\n",
       "      <td>17.000000</td>\n",
       "    </tr>\n",
       "    <tr>\n",
       "      <th>IND</th>\n",
       "      <td>29.500000</td>\n",
       "      <td>36.500000</td>\n",
       "      <td>10.750000</td>\n",
       "    </tr>\n",
       "    <tr>\n",
       "      <th>NZ</th>\n",
       "      <td>18.500000</td>\n",
       "      <td>22.000000</td>\n",
       "      <td>6.000000</td>\n",
       "    </tr>\n",
       "    <tr>\n",
       "      <th>PAK</th>\n",
       "      <td>21.250000</td>\n",
       "      <td>28.000000</td>\n",
       "      <td>9.500000</td>\n",
       "    </tr>\n",
       "    <tr>\n",
       "      <th>SA</th>\n",
       "      <td>9.800000</td>\n",
       "      <td>20.200000</td>\n",
       "      <td>3.400000</td>\n",
       "    </tr>\n",
       "    <tr>\n",
       "      <th>SL</th>\n",
       "      <td>28.666667</td>\n",
       "      <td>44.000000</td>\n",
       "      <td>12.333333</td>\n",
       "    </tr>\n",
       "    <tr>\n",
       "      <th>WI</th>\n",
       "      <td>16.625000</td>\n",
       "      <td>25.625000</td>\n",
       "      <td>7.250000</td>\n",
       "    </tr>\n",
       "    <tr>\n",
       "      <th>ZIM</th>\n",
       "      <td>12.000000</td>\n",
       "      <td>27.000000</td>\n",
       "      <td>5.000000</td>\n",
       "    </tr>\n",
       "  </tbody>\n",
       "</table>\n",
       "</div>"
      ],
      "text/plain": [
       "          Hundreds    Fifties      Ducks\n",
       "Country                                 \n",
       "AUS      20.625000  28.375000   8.562500\n",
       "ENG      12.384615  20.846154   4.307692\n",
       "ICC/IND  29.500000  47.500000  12.000000\n",
       "ICC/PAK  25.000000  46.000000  15.000000\n",
       "ICC/SA   36.000000  48.000000  13.500000\n",
       "ICC/WI   34.000000  48.000000  17.000000\n",
       "IND      29.500000  36.500000  10.750000\n",
       "NZ       18.500000  22.000000   6.000000\n",
       "PAK      21.250000  28.000000   9.500000\n",
       "SA        9.800000  20.200000   3.400000\n",
       "SL       28.666667  44.000000  12.333333\n",
       "WI       16.625000  25.625000   7.250000\n",
       "ZIM      12.000000  27.000000   5.000000"
      ]
     },
     "execution_count": 6,
     "metadata": {},
     "output_type": "execute_result"
    }
   ],
   "source": [
    "df.groupby('Country')[['Hundreds', 'Fifties', 'Ducks']].mean()"
   ]
  }
 ],
 "metadata": {
  "kernelspec": {
   "display_name": "Python 3",
   "language": "python",
   "name": "python3"
  },
  "language_info": {
   "codemirror_mode": {
    "name": "ipython",
    "version": 3
   },
   "file_extension": ".py",
   "mimetype": "text/x-python",
   "name": "python",
   "nbconvert_exporter": "python",
   "pygments_lexer": "ipython3",
   "version": "3.12.3"
  }
 },
 "nbformat": 4,
 "nbformat_minor": 2
}
